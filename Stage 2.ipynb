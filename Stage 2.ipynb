{
  "nbformat": 4,
  "nbformat_minor": 0,
  "metadata": {
    "colab": {
      "name": "Stage 2.ipynb",
      "version": "0.3.2",
      "provenance": []
    },
    "language_info": {
      "codemirror_mode": {
        "name": "ipython",
        "version": 3
      },
      "file_extension": ".py",
      "mimetype": "text/x-python",
      "name": "python",
      "nbconvert_exporter": "python",
      "pygments_lexer": "ipython3",
      "version": "3.7.3"
    },
    "kernelspec": {
      "display_name": "Python 3",
      "language": "python",
      "name": "python3"
    }
  },
  "cells": [
    {
      "cell_type": "markdown",
      "metadata": {
        "id": "-sjM2845rao8",
        "colab_type": "text"
      },
      "source": [
        "# Stage 2 : Advanced Basics and Common Packages"
      ]
    },
    {
      "cell_type": "markdown",
      "metadata": {
        "id": "Ss06fuUnrao-",
        "colab_type": "text"
      },
      "source": [
        "## Functions\n",
        "\n",
        "A function is a set of code that has a defined input and output. It's like a assembly machine, you put in something and get something back. They're are many built-in functions to python, such as len() which tells you the length of a list "
      ]
    },
    {
      "cell_type": "code",
      "metadata": {
        "id": "B43yMuX9rao_",
        "colab_type": "code",
        "colab": {}
      },
      "source": [
        "bigoldlist = [5,64,654,625,24,231,5,4768,356,235,\\\n",
        "              76,25,376,43523,73,52,73,52,63,52,635,\\\n",
        "              7,23,645,763,73,437,76,273,743,73,73,623,76374557]\n",
        "len(bigoldlist)"
      ],
      "execution_count": 0,
      "outputs": []
    },
    {
      "cell_type": "markdown",
      "metadata": {
        "id": "cc3_DIqXrapC",
        "colab_type": "text"
      },
      "source": [
        "A simple example of a function could be Pythagoras theorem."
      ]
    },
    {
      "cell_type": "code",
      "metadata": {
        "id": "L6z_xUnTrapD",
        "colab_type": "code",
        "colab": {}
      },
      "source": [
        "#This is the function, note the indented lines are what will run when the function is called\n",
        "#shortsideone and shortsidetwo are the inputs of the function\n",
        "def hypotenuse(shortsideone,shortsidetwo):\n",
        "    longside = ((shortsideone)**2+(shortsidetwo)**2)**(0.5)\n",
        "    return longside\n",
        "\n",
        "a = 5\n",
        "b = 6\n",
        "\n",
        "# Now we call the function to make it run, using the values we defined \n",
        "hypotenuse(a,b)"
      ],
      "execution_count": 0,
      "outputs": []
    },
    {
      "cell_type": "markdown",
      "metadata": {
        "id": "WMSgQV8jrapG",
        "colab_type": "text"
      },
      "source": [
        "## HELP FUNCTION\n",
        "\n",
        "One of the best functions is the help function. Simply put, it will tell you about any function or object!!"
      ]
    },
    {
      "cell_type": "code",
      "metadata": {
        "id": "RGqsgKNFrapG",
        "colab_type": "code",
        "colab": {}
      },
      "source": [
        "help(len)"
      ],
      "execution_count": 0,
      "outputs": []
    },
    {
      "cell_type": "markdown",
      "metadata": {
        "id": "nbB2z4T9rapJ",
        "colab_type": "text"
      },
      "source": [
        "## For loops\n",
        "\n",
        "A for loop is another type of loop that iterates over a list whilst looping"
      ]
    },
    {
      "cell_type": "code",
      "metadata": {
        "id": "GVRGbEnVrapJ",
        "colab_type": "code",
        "colab": {}
      },
      "source": [
        "Listof5Numbers = range(5) #range is a function that creates a list of integers\n",
        "for x in Listof5Numbers:\n",
        "    print(x) "
      ],
      "execution_count": 0,
      "outputs": []
    },
    {
      "cell_type": "markdown",
      "metadata": {
        "id": "cp4_rO1grapM",
        "colab_type": "text"
      },
      "source": [
        "## List Comprehension\n",
        "\n",
        "List comprehension is a fancy programming way of saying \"we want to apply a function to every element in a list\". Observe"
      ]
    },
    {
      "cell_type": "code",
      "metadata": {
        "id": "-RvBP0yVrapN",
        "colab_type": "code",
        "colab": {}
      },
      "source": [
        "singles = [1,2,3,4,5]\n",
        "\n",
        "doubles = [(x*2) for x in singles]\n",
        "\n",
        "print(doubles)"
      ],
      "execution_count": 0,
      "outputs": []
    },
    {
      "cell_type": "code",
      "metadata": {
        "id": "ZHlu5fP-rapP",
        "colab_type": "code",
        "colab": {}
      },
      "source": [
        "#Another Example\n",
        "\n",
        "fruits = [\"apples\",\"bananas\",\"pears\",\"grapes\",\"strawberries\"]\n",
        "\n",
        "nofruits = [(\"We got no \" + x) for x in fruits]\n",
        "\n",
        "for i in nofruits:\n",
        "    print(i)"
      ],
      "execution_count": 0,
      "outputs": []
    },
    {
      "cell_type": "markdown",
      "metadata": {
        "id": "wMYj_PD3sD7T",
        "colab_type": "text"
      },
      "source": [
        "## Inputs\n",
        "\n",
        "Sometimes you'l want to input data into your code whilst it's running, such as collecting a person name or age.\n"
      ]
    },
    {
      "cell_type": "code",
      "metadata": {
        "id": "kIRpJGCqsBRd",
        "colab_type": "code",
        "colab": {
          "base_uri": "https://localhost:8080/",
          "height": 51
        },
        "outputId": "39b68ee7-451e-4561-9110-3b6d0d9700d9"
      },
      "source": [
        "#to input some data, use the \"input\" function, remember to assign it to a variable to store the data\n",
        "\n",
        "\n",
        "AName = input(\"What is your name?\")\n",
        "print(AName)"
      ],
      "execution_count": 2,
      "outputs": [
        {
          "output_type": "stream",
          "text": [
            "What is your name?Richard\n",
            "Richard\n"
          ],
          "name": "stdout"
        }
      ]
    },
    {
      "cell_type": "markdown",
      "metadata": {
        "id": "LBmBkkCnrapR",
        "colab_type": "text"
      },
      "source": [
        "## Importing Packages\n",
        "\n",
        "A package is an essential part of coding in Python. A package is a collection of functions and data objects that saves you time by not having to write it all yourself!\n",
        "\n",
        "Each package needs to be imported for usage."
      ]
    },
    {
      "cell_type": "markdown",
      "metadata": {
        "id": "dXhLAfWzrapS",
        "colab_type": "text"
      },
      "source": [
        "## Numpy Package\n",
        "\n",
        "Arguably the most common python package is called Numpy. Here are a few examples of it's utility. "
      ]
    },
    {
      "cell_type": "code",
      "metadata": {
        "id": "DD5PevXHrapT",
        "colab_type": "code",
        "colab": {}
      },
      "source": [
        "import numpy # first, import the package"
      ],
      "execution_count": 0,
      "outputs": []
    },
    {
      "cell_type": "code",
      "metadata": {
        "id": "YGRvUcO4rapX",
        "colab_type": "code",
        "colab": {}
      },
      "source": [
        "afunkyarray = numpy.arange(0,10,0.1) \n",
        "\n",
        "# numpy.arange is a function that generates a numpy array with values based on (start,stop,interval)\n",
        "\n",
        "afunkyarray"
      ],
      "execution_count": 0,
      "outputs": []
    },
    {
      "cell_type": "markdown",
      "metadata": {
        "id": "d1WGPZ5FrapZ",
        "colab_type": "text"
      },
      "source": [
        "Objects in python have attributes, which are properties of the object."
      ]
    },
    {
      "cell_type": "code",
      "metadata": {
        "id": "VwckgXDorapa",
        "colab_type": "code",
        "colab": {}
      },
      "source": [
        "afunkyarray.shape # shape of afunkyarray"
      ],
      "execution_count": 0,
      "outputs": []
    },
    {
      "cell_type": "code",
      "metadata": {
        "id": "wOyAHcYvrapc",
        "colab_type": "code",
        "colab": {}
      },
      "source": [
        "numpy.sin(0.5*numpy.pi) # numpy.sin performs the sine function in radians"
      ],
      "execution_count": 0,
      "outputs": []
    },
    {
      "cell_type": "markdown",
      "metadata": {
        "id": "AFPhiWrNrape",
        "colab_type": "text"
      },
      "source": [
        "## Exercise: Caesar Cipher"
      ]
    },
    {
      "cell_type": "markdown",
      "metadata": {
        "id": "6nh7Oe3Krapf",
        "colab_type": "text"
      },
      "source": [
        "The Caesar Cipher was one of the first recorded instances of crytopgraphy (concealing data). The basic idea of the cipher is to shift all the letters by an amount, e.g A -> C, D -> F.\n",
        "\n",
        "In the code box below, try creating a Caesar Cipher that takes in both the orginial text and the amount you're shifting by, and then returns the encrypted text."
      ]
    },
    {
      "cell_type": "code",
      "metadata": {
        "id": "NS6akBoirapf",
        "colab_type": "code",
        "colab": {
          "base_uri": "https://localhost:8080/",
          "height": 34
        },
        "outputId": "3e7b2e98-df99-4651-b91d-9785726da125"
      },
      "source": [
        "#Here's something to get you started, alphabet contains a string with lower and upper case letters\n",
        "import string\n",
        "alphabet = string.ascii_letters\n",
        "print(alphabet)\n",
        "\n",
        "#Hint: having problems at the end of the alphabet? :Look up what % does in python!"
      ],
      "execution_count": 1,
      "outputs": [
        {
          "output_type": "stream",
          "text": [
            "abcdefghijklmnopqrstuvwxyzABCDEFGHIJKLMNOPQRSTUVWXYZ\n"
          ],
          "name": "stdout"
        }
      ]
    },
    {
      "cell_type": "code",
      "metadata": {
        "id": "I8N4ElMUuMiV",
        "colab_type": "code",
        "colab": {}
      },
      "source": [
        ""
      ],
      "execution_count": 0,
      "outputs": []
    }
  ]
}