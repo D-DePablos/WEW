{
 "cells": [
  {
   "cell_type": "markdown",
   "metadata": {},
   "source": [
    "# Stage 2 : Advanced Basics and Common Packages"
   ]
  },
  {
   "cell_type": "markdown",
   "metadata": {},
   "source": [
    "## Functions\n",
    "\n",
    "A function is a set of code that has a defined input and output. It's like a assembly machine, you put in something and get something back. They're are many built-in functions to python, such as len() which tells you the length of a list "
   ]
  },
  {
   "cell_type": "code",
   "execution_count": null,
   "metadata": {},
   "outputs": [],
   "source": [
    "bigoldlist = [5,64,654,625,24,231,5,4768,356,235,\\\n",
    "              76,25,376,43523,73,52,73,52,63,52,635,\\\n",
    "              7,23,645,763,73,437,76,273,743,73,73,623,76374557]\n",
    "len(bigoldlist)"
   ]
  },
  {
   "cell_type": "markdown",
   "metadata": {},
   "source": [
    "A simple example of a function could be Pythagoras theorem."
   ]
  },
  {
   "cell_type": "code",
   "execution_count": null,
   "metadata": {},
   "outputs": [],
   "source": [
    "#This is the function, note the indented lines are what will run when the function is called\n",
    "#shortsideone and shortsidetwo are the inputs of the function\n",
    "def hypotenuse(shortsideone,shortsidetwo):\n",
    "    longside = ((shortsideone)**2+(shortsidetwo)**2)**(0.5)\n",
    "    return longside\n",
    "\n",
    "a = 5\n",
    "b = 6\n",
    "\n",
    "# Now we call the function to make it run, using the values we defined \n",
    "hypotenuse(a,b)"
   ]
  },
  {
   "cell_type": "markdown",
   "metadata": {},
   "source": [
    "## HELP FUNCTION\n",
    "\n",
    "One of the best functions is the help function. Simply put, it will tell you about any function or object!!"
   ]
  },
  {
   "cell_type": "code",
   "execution_count": null,
   "metadata": {},
   "outputs": [],
   "source": [
    "help(len)"
   ]
  },
  {
   "cell_type": "markdown",
   "metadata": {},
   "source": [
    "## For loops\n",
    "\n",
    "A for loop is another type of loop that iterates over a list whilst looping"
   ]
  },
  {
   "cell_type": "code",
   "execution_count": null,
   "metadata": {},
   "outputs": [],
   "source": [
    "Listof5Numbers = range(5) #range is a function that creates a list of integers\n",
    "for x in Listof5Numbers:\n",
    "    print(x) "
   ]
  },
  {
   "cell_type": "markdown",
   "metadata": {},
   "source": [
    "## List Comprehension\n",
    "\n",
    "List comprehension is a fancy programming way of saying \"we want to apply a function to every element in a list\". Observe"
   ]
  },
  {
   "cell_type": "code",
   "execution_count": null,
   "metadata": {},
   "outputs": [],
   "source": [
    "singles = [1,2,3,4,5]\n",
    "\n",
    "doubles = [(x*2) for x in singles]\n",
    "\n",
    "print(doubles)"
   ]
  },
  {
   "cell_type": "code",
   "execution_count": null,
   "metadata": {},
   "outputs": [],
   "source": [
    "#Another Example\n",
    "\n",
    "fruits = [\"apples\",\"bananas\",\"pears\",\"grapes\",\"strawberries\"]\n",
    "\n",
    "nofruits = [(\"We got no \" + x) for x in fruits]\n",
    "\n",
    "for i in nofruits:\n",
    "    print(i)"
   ]
  },
  {
   "cell_type": "markdown",
   "metadata": {},
   "source": [
    "## Importing Packages\n",
    "\n",
    "A package is an essential part of coding in Python. A package is a collection of functions and data objects that saves you time by not having to write it all yourself!\n",
    "\n",
    "Each package needs to be imported for usage."
   ]
  },
  {
   "cell_type": "markdown",
   "metadata": {},
   "source": [
    "## Numpy Package\n",
    "\n",
    "Arguably the most common python package is called Numpy. Here are a few examples of it's utility. "
   ]
  },
  {
   "cell_type": "code",
   "execution_count": null,
   "metadata": {},
   "outputs": [],
   "source": [
    "import numpy # first, import the package"
   ]
  },
  {
   "cell_type": "code",
   "execution_count": null,
   "metadata": {},
   "outputs": [],
   "source": [
    "afunkyarray = numpy.arange(0,10,0.1) \n",
    "\n",
    "# numpy.arange is a function that generates a numpy array with values based on (start,stop,interval)\n",
    "\n",
    "afunkyarray"
   ]
  },
  {
   "cell_type": "markdown",
   "metadata": {},
   "source": [
    "Objects in python have attributes, which are properties of the object."
   ]
  },
  {
   "cell_type": "code",
   "execution_count": null,
   "metadata": {},
   "outputs": [],
   "source": [
    "afunkyarray.shape # shape of afunkyarray"
   ]
  },
  {
   "cell_type": "code",
   "execution_count": null,
   "metadata": {},
   "outputs": [],
   "source": [
    "numpy.sin(0.5*numpy.pi) # numpy.sin performs the sine function in radians"
   ]
  },
  {
   "cell_type": "markdown",
   "metadata": {},
   "source": [
    "## Scipy Package"
   ]
  },
  {
   "cell_type": "markdown",
   "metadata": {},
   "source": []
  },
  {
   "cell_type": "code",
   "execution_count": null,
   "metadata": {},
   "outputs": [],
   "source": []
  }
 ],
 "metadata": {
  "kernelspec": {
   "display_name": "Python 3",
   "language": "python",
   "name": "python3"
  },
  "language_info": {
   "codemirror_mode": {
    "name": "ipython",
    "version": 3
   },
   "file_extension": ".py",
   "mimetype": "text/x-python",
   "name": "python",
   "nbconvert_exporter": "python",
   "pygments_lexer": "ipython3",
   "version": "3.7.3"
  }
 },
 "nbformat": 4,
 "nbformat_minor": 2
}
