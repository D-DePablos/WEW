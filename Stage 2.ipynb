{
 "cells": [
  {
   "cell_type": "markdown",
   "metadata": {},
   "source": [
    "# Stage 2 : Advanced Basics and Common Packages"
   ]
  },
  {
   "cell_type": "markdown",
   "metadata": {},
   "source": [
    "## Functions"
   ]
  },
  {
   "cell_type": "markdown",
   "metadata": {},
   "source": [
    "A function is a set of code that has a defined input and output. It's like a assembly machine, you put in something and get something back. They're are many built-in functions to python, such as len() which tells you the length of a list "
   ]
  },
  {
   "cell_type": "code",
   "execution_count": 3,
   "metadata": {},
   "outputs": [
    {
     "data": {
      "text/plain": [
       "34"
      ]
     },
     "execution_count": 3,
     "metadata": {},
     "output_type": "execute_result"
    }
   ],
   "source": [
    "bigoldlist = [5,64,654,625,24,231,5,4768,356,235,\\\n",
    "              76,25,376,43523,73,52,73,52,63,52,635,\\\n",
    "              7,23,645,763,73,437,76,273,743,73,73,623,76374557]\n",
    "len(bigoldlist)"
   ]
  },
  {
   "cell_type": "markdown",
   "metadata": {},
   "source": [
    "A simple example of a function could be Pythagoras theorem."
   ]
  },
  {
   "cell_type": "code",
   "execution_count": 8,
   "metadata": {},
   "outputs": [
    {
     "data": {
      "text/plain": [
       "7.810249675906654"
      ]
     },
     "execution_count": 8,
     "metadata": {},
     "output_type": "execute_result"
    }
   ],
   "source": [
    "#This is the function, note the indented lines are what will run when the function is called\n",
    "#shortsideone and shortsidetwo are the inputs of the function\n",
    "def hypotenuse(shortsideone,shortsidetwo):\n",
    "    longside = ((shortsideone)**2+(shortsidetwo)**2)**(0.5)\n",
    "    return longside\n",
    "\n",
    "a = 5\n",
    "b = 6\n",
    "\n",
    "# Now we call the function to make it run, using the values we defined \n",
    "hypotenuse(a,b)"
   ]
  },
  {
   "cell_type": "markdown",
   "metadata": {},
   "source": [
    "## For loops"
   ]
  },
  {
   "cell_type": "markdown",
   "metadata": {},
   "source": [
    "A for loop is another type of loop that iterates over a list whilst looping"
   ]
  },
  {
   "cell_type": "code",
   "execution_count": 7,
   "metadata": {},
   "outputs": [
    {
     "name": "stdout",
     "output_type": "stream",
     "text": [
      "0\n",
      "1\n",
      "2\n",
      "3\n",
      "4\n"
     ]
    }
   ],
   "source": [
    "Listof5Numbers = range(5) #range is a function that creates a list of integers\n",
    "for x in Listof5Numbers:\n",
    "    print(x) "
   ]
  },
  {
   "cell_type": "markdown",
   "metadata": {},
   "source": [
    "## List Comprehension"
   ]
  },
  {
   "cell_type": "markdown",
   "metadata": {},
   "source": [
    "List comprehension is a fancy programming way of saying \"we want to apply a function to every element in a list\". Observe"
   ]
  },
  {
   "cell_type": "code",
   "execution_count": 11,
   "metadata": {},
   "outputs": [
    {
     "name": "stdout",
     "output_type": "stream",
     "text": [
      "[2, 4, 6, 8, 10]\n"
     ]
    }
   ],
   "source": [
    "singles = [1,2,3,4,5]\n",
    "\n",
    "doubles = [(x*2) for x in singles]\n",
    "\n",
    "print(doubles)"
   ]
  },
  {
   "cell_type": "code",
   "execution_count": 14,
   "metadata": {},
   "outputs": [
    {
     "name": "stdout",
     "output_type": "stream",
     "text": [
      "We got no apples\n",
      "We got no bananas\n",
      "We got no pears\n",
      "We got no grapes\n",
      "We got no strawberries\n"
     ]
    }
   ],
   "source": [
    "#Another Example\n",
    "\n",
    "fruits = [\"apples\",\"bananas\",\"pears\",\"grapes\",\"strawberries\"]\n",
    "\n",
    "nofruits = [(\"We got no \" + x) for x in fruits]\n",
    "\n",
    "for i in nofruits:\n",
    "    print(i)"
   ]
  },
  {
   "cell_type": "markdown",
   "metadata": {},
   "source": [
    "## Importing Packages"
   ]
  },
  {
   "cell_type": "markdown",
   "metadata": {},
   "source": []
  },
  {
   "cell_type": "code",
   "execution_count": null,
   "metadata": {},
   "outputs": [],
   "source": []
  },
  {
   "cell_type": "markdown",
   "metadata": {},
   "source": [
    "## Numpy Package"
   ]
  },
  {
   "cell_type": "markdown",
   "metadata": {},
   "source": []
  },
  {
   "cell_type": "code",
   "execution_count": null,
   "metadata": {},
   "outputs": [],
   "source": []
  },
  {
   "cell_type": "markdown",
   "metadata": {},
   "source": [
    "## Scipy Package"
   ]
  },
  {
   "cell_type": "markdown",
   "metadata": {},
   "source": []
  },
  {
   "cell_type": "code",
   "execution_count": null,
   "metadata": {},
   "outputs": [],
   "source": []
  }
 ],
 "metadata": {
  "kernelspec": {
   "display_name": "Python 3",
   "language": "python",
   "name": "python3"
  },
  "language_info": {
   "codemirror_mode": {
    "name": "ipython",
    "version": 3
   },
   "file_extension": ".py",
   "mimetype": "text/x-python",
   "name": "python",
   "nbconvert_exporter": "python",
   "pygments_lexer": "ipython3",
   "version": "3.7.3"
  }
 },
 "nbformat": 4,
 "nbformat_minor": 2
}
