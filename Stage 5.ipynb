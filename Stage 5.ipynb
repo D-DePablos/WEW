{
  "nbformat": 4,
  "nbformat_minor": 0,
  "metadata": {
    "colab": {
      "name": "Stage 5.ipynb",
      "version": "0.3.2",
      "provenance": [],
      "collapsed_sections": [],
      "include_colab_link": true
    },
    "kernelspec": {
      "name": "python3",
      "display_name": "Python 3"
    }
  },
  "cells": [
    {
      "cell_type": "markdown",
      "metadata": {
        "id": "view-in-github",
        "colab_type": "text"
      },
      "source": [
        "<a href=\"https://colab.research.google.com/github/D-DePablos/WEW/blob/master/Stage%205.ipynb\" target=\"_parent\"><img src=\"https://colab.research.google.com/assets/colab-badge.svg\" alt=\"Open In Colab\"/></a>"
      ]
    },
    {
      "cell_type": "markdown",
      "metadata": {
        "id": "O7Hae280h3z7",
        "colab_type": "text"
      },
      "source": [
        "# Stage 5: The Sun\n",
        "\n",
        "A very important part of our Solar System is the Sun itself. It is for this reason that we, as its residents, have many observatories, both ground and space-based, that take measurements related to it and its influence.\n",
        "\n",
        "\n",
        "\n",
        "1.   Installing the relevant modules\n",
        "2.   Fetching Images from current spacecraft\n",
        "3.   Plotting them\n",
        "4.   Making a video in Python (intro)"
      ]
    },
    {
      "cell_type": "markdown",
      "metadata": {
        "id": "Equdb67TlVjz",
        "colab_type": "text"
      },
      "source": [
        "## Installing the relevant modules\n",
        "\n",
        "The first step here will be to get a module installed inside the jupyter notebook. To do that, just **run the following line the first time you open this notebook:**"
      ]
    },
    {
      "cell_type": "code",
      "metadata": {
        "id": "Wxk8mQ5WmOm1",
        "colab_type": "code",
        "colab": {}
      },
      "source": [
        "!pip install -q sunpy[all]  # This package is used for all things Sun-related, hosted in github: https://github.com/sunpy/sunpy\n"
      ],
      "execution_count": 0,
      "outputs": []
    },
    {
      "cell_type": "markdown",
      "metadata": {
        "id": "QOoNUhhWpJbu",
        "colab_type": "text"
      },
      "source": [
        "**After the installation is finished, click on Runtime and Restart the Runtime with Control + M!**"
      ]
    },
    {
      "cell_type": "code",
      "metadata": {
        "id": "3tf_BVcOopfo",
        "colab_type": "code",
        "colab": {}
      },
      "source": [
        "from sunpy.net import Fido, attrs as a\n",
        "from astropy import units as u  \n",
        "\n",
        "from datetime import datetime   # Python's small Time module\n",
        "\n",
        "valid_wavelengths = [94, 131, 179, 193, 211, 304, 335, 1600, 1700]  # Note that 16/1700 are white light and not as useful here!\n",
        "\n",
        "\n",
        "Inst = 'aia'  # Here we will use the Atmospheric Imaging Assembly: aia\n",
        "# It is onboard the Solar Dynamics Observatory. \n",
        "#Provides us with images of the Sun almost 24-7!\n",
        "\n",
        "\n",
        "# Now choose the period we would like to get our data from. Please don't do too much at once!\n",
        "\n",
        "start_time = datetime(2019,1,10,0,0)  # Year,Month,Day,Hour,Minute\n",
        "end_time = datetime(2019,1,30,23,59)\n",
        "\n",
        "\n",
        "lambda_ang = valid_wavelengths[3] * u.Angstrom  # Choose the 193 Angstrom wavelength as an example (Extreme Ultraviolet)\n",
        "\n",
        "\n",
        "samplerate_hours = 10 * u.hour  # We need to give our images a cadence for collection. \n",
        "# Please keep in mind that aia takes an image in all of its wavelengths every 10 seconds or so.\n",
        "# Choose a cadence depending on what you want to bring out!\n",
        "\n",
        "  \n",
        "fido = Fido.search(a.Time(start=start_time, end=end_time), a.Instrument(Inst), a.Wavelength(lambda_ang), a.vso.Sample(samplerate_hours))\n",
        "\n",
        "print(fido)"
      ],
      "execution_count": 0,
      "outputs": []
    },
    {
      "cell_type": "markdown",
      "metadata": {
        "id": "M_CXsY3fvd1T",
        "colab_type": "text"
      },
      "source": [
        "Now, we should have a series of results showing above this text-box. These are available records that we may now download:"
      ]
    },
    {
      "cell_type": "code",
      "metadata": {
        "id": "qZ8h8Vudvj5i",
        "colab_type": "code",
        "colab": {}
      },
      "source": [
        "from os import makedirs as newdir\n",
        "\n",
        "dir_images = 'My_folder'\n",
        "newdir(dir_images, exist_ok = True)\n",
        "\n",
        "Fido.fetch(fido, path = 'My_folder/')"
      ],
      "execution_count": 0,
      "outputs": []
    },
    {
      "cell_type": "markdown",
      "metadata": {
        "id": "wnMDCZrOq3Kq",
        "colab_type": "text"
      },
      "source": [
        "##Looking at our newly acquired data\n",
        "\n",
        "Now we need to access this data. For this we may use sunpy:"
      ]
    },
    {
      "cell_type": "code",
      "metadata": {
        "id": "Z5VouhM9xhkt",
        "colab_type": "code",
        "colab": {}
      },
      "source": [
        "import matplotlib.pyplot as plt\n",
        "import sunpy.map\n",
        "import glob  # To fetch all files from a directory\n",
        "\n",
        "\n",
        "map_list = sorted(glob.glob('My_folder/*.fits'))\n",
        "\n",
        "for picture in map_list[0:3]:\n",
        "  \n",
        "  aia_map = sunpy.map.Map(picture)\n",
        "  aia_map.plot()\n",
        "  plt.show()\n",
        "  \n",
        "input('Happy with the results? Press enter again in this box to save all of the figures as png images')\n",
        "\n",
        "\n",
        "dir_png = 'My_pics'\n",
        "newdir(dir_png, exist_ok = True)\n",
        "\n",
        "for index, picture in enumerate(map_list):\n",
        "  aia_map = sunpy.map.Map(picture)\n",
        "  aia_map.plot()\n",
        "  plt.savefig(f'{dir_png}/{index:03d}.png')\n",
        "  plt.clf()\n",
        "  \n",
        "  print(f'Saved figure {index}')\n",
        "  "
      ],
      "execution_count": 0,
      "outputs": []
    },
    {
      "cell_type": "markdown",
      "metadata": {
        "id": "bRy81ZCryzFB",
        "colab_type": "text"
      },
      "source": [
        "As we have just seen, it is fairly straightforward to get images from a spacecraft into Python and show them, but what can we do once we have these images?"
      ]
    },
    {
      "cell_type": "markdown",
      "metadata": {
        "id": "91-uiXRPD6Ka",
        "colab_type": "text"
      },
      "source": [
        "## Making videos out of our material\n",
        "\n",
        "A first good use of these images is to study the dynamics of the solar atmosphere, known to affect spacecraft and the Earth's weather! To do that, we need to have a look at all of the images in rapid succession."
      ]
    },
    {
      "cell_type": "code",
      "metadata": {
        "id": "GcGkwXdjsZNe",
        "colab_type": "code",
        "colab": {}
      },
      "source": [
        "import cv2  # Here, we import OpenCV, a powerful image and video processing tool\n",
        "from os import getcwd\n",
        "\n",
        "\n",
        "img_array = []\n",
        "\n",
        "for filename in sorted(glob.glob(f'{dir_png}/*.png')):\n",
        "  img = cv2.imread(filename)\n",
        "  height, width, layers = img.shape\n",
        "  size = (width,height)\n",
        "  img_array.append(img)\n",
        "\n",
        "out = cv2.VideoWriter('solar_vid.avi',cv2.VideoWriter_fourcc(*'DIVX'), 15, size)\n",
        " \n",
        "for i in range(len(img_array)):\n",
        "    out.write(img_array[i])\n",
        "out.release()\n"
      ],
      "execution_count": 0,
      "outputs": []
    },
    {
      "cell_type": "markdown",
      "metadata": {
        "id": "THcMDyc5lV_O",
        "colab_type": "text"
      },
      "source": [
        "With the above, we will have created a movie called \"solar_vid.avi\", which holds all of our images together."
      ]
    },
    {
      "cell_type": "markdown",
      "metadata": {
        "id": "ixXIR_yeldkP",
        "colab_type": "text"
      },
      "source": [
        "## Learning more\n",
        "\n",
        "To learn more about Python in Solar Physics, feel free to check the following link:\n",
        "\n",
        "https://github.com/D-DePablos/Python_Taster\n",
        "\n",
        "Where the installation of Python in your own computer is described (through Anaconda), and some basic functions are at use.\n",
        "\n",
        "\n",
        "\n"
      ]
    }
  ]
}