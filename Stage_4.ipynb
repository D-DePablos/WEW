{
  "nbformat": 4,
  "nbformat_minor": 0,
  "metadata": {
    "colab": {
      "name": "Stage 4.ipynb",
      "version": "0.3.2",
      "provenance": [],
      "collapsed_sections": [
        "Equdb67TlVjz"
      ],
      "include_colab_link": true
    },
    "language_info": {
      "codemirror_mode": {
        "name": "ipython",
        "version": 3
      },
      "file_extension": ".py",
      "mimetype": "text/x-python",
      "name": "python",
      "nbconvert_exporter": "python",
      "pygments_lexer": "ipython3",
      "version": "3.7.3"
    },
    "kernelspec": {
      "name": "python3",
      "display_name": "Python 3"
    }
  },
  "cells": [
    {
      "cell_type": "markdown",
      "metadata": {
        "id": "view-in-github",
        "colab_type": "text"
      },
      "source": [
        "<a href=\"https://colab.research.google.com/github/D-DePablos/WEW/blob/master/Stage_4.ipynb\" target=\"_parent\"><img src=\"https://colab.research.google.com/assets/colab-badge.svg\" alt=\"Open In Colab\"/></a>"
      ]
    },
    {
      "cell_type": "markdown",
      "metadata": {
        "id": "DfxaQdeNlVjy",
        "colab_type": "text"
      },
      "source": [
        "# Stage 4 : Image processing\n",
        "\n",
        "In science, a large part of data comes in the form of images. It is here where image processing plays a big role!\n",
        "\n",
        "*   Getting images into Python\n",
        "*   Playing with image properties\n",
        "*   Exercise previous knowledge on some pictures\n",
        "\n"
      ]
    },
    {
      "cell_type": "markdown",
      "metadata": {
        "id": "Equdb67TlVjz",
        "colab_type": "text"
      },
      "source": [
        "## Downloading and displaying an Image\n",
        "\n",
        "The first step to working with images in Python is to get an image ready. We will be using a picture of what is known as \"coronal loops\" as an example image, but any image URL will work in this section."
      ]
    },
    {
      "cell_type": "code",
      "metadata": {
        "id": "Wxk8mQ5WmOm1",
        "colab_type": "code",
        "colab": {}
      },
      "source": [
        "import urllib.request\n",
        "\n",
        "\n",
        "url = 'https://scied.ucar.edu/sites/default/files/images/large_image_for_image_content/coronal_loops_trace_6nov1999_720x500.jpg'\n",
        "\n",
        "urllib.request.urlretrieve(url, \"image.jpg\")"
      ],
      "execution_count": 0,
      "outputs": []
    },
    {
      "cell_type": "markdown",
      "metadata": {
        "id": "QOoNUhhWpJbu",
        "colab_type": "text"
      },
      "source": [
        "Once we have downloaded the image locally (saved as image.jpg), we can have a look at what we have. Check that everything looks fine!"
      ]
    },
    {
      "cell_type": "code",
      "metadata": {
        "id": "3tf_BVcOopfo",
        "colab_type": "code",
        "colab": {}
      },
      "source": [
        "import matplotlib.pyplot as plt\n",
        "\n",
        "im_loop = plt.imread(\"image.jpg\")\n",
        "\n",
        "plt.imshow(im_loop)\n",
        "plt.show()"
      ],
      "execution_count": 0,
      "outputs": []
    },
    {
      "cell_type": "markdown",
      "metadata": {
        "id": "wnMDCZrOq3Kq",
        "colab_type": "text"
      },
      "source": [
        "##The true nature of Images\n",
        "\n",
        "As you may have expected (perhaps not?), images are no more than arrays of numbers that give information about position, colour and saturation of each of the pixels, for each of Red, Green and Blue.\n",
        "\n",
        "This is why the image we just plotted has numbered axes!\n",
        "\n",
        "\n",
        "So this is what a part of the Sun looks like to Python..."
      ]
    },
    {
      "cell_type": "code",
      "metadata": {
        "id": "PxVifRA4lVkG",
        "colab_type": "code",
        "colab": {}
      },
      "source": [
        "print(f' The image is just another array! : {type(im_loop)}')\n",
        "\n",
        "image_dim = im_loop.shape\n",
        "print(f'And this is what python sees as the dimensions for the image :{image_dim}')\n",
        "print(f'\\n That is, {image_dim[0]} pixels tall, {image_dim[1]} pixels wide, and in {image_dim[2]} (R,G,B) colours')"
      ],
      "execution_count": 0,
      "outputs": []
    },
    {
      "cell_type": "markdown",
      "metadata": {
        "id": "Xq9edMoTlVj7",
        "colab_type": "text"
      },
      "source": [
        "**This is very powerful, as it allows us to use images as if they were numerical arrays!**\n",
        "\n",
        "We can crop the image, rotate it, or zoom into a part of it with ease!"
      ]
    },
    {
      "cell_type": "code",
      "metadata": {
        "id": "VL6JpwhNW6-u",
        "colab_type": "code",
        "colab": {}
      },
      "source": [
        "import numpy as np\n",
        "from scipy import ndimage\n",
        "\n",
        "\n",
        "im_loop = plt.imread(\"image.jpg\")\n",
        "\n",
        "\n",
        "fig = plt.figure(figsize = (10,10))\n",
        "\n",
        "# Original image\n",
        "fig.add_subplot(2,2,1)\n",
        "plt.imshow(im_loop)\n",
        "plt.title('OG')\n",
        "\n",
        "# Cropped\n",
        "fig.add_subplot(2,2,2)\n",
        "im_crop = im_loop[0:300, 0:200, :]\n",
        "plt.imshow(im_crop)\n",
        "plt.title('Crop')\n",
        "\n",
        "# Flipped upside down\n",
        "fig.add_subplot(2,2,3)\n",
        "im_flip = np.flipud(im_loop)\n",
        "plt.imshow(im_flip)\n",
        "plt.title('Up = down')\n",
        "\n",
        "# Rotated 70 degrees\n",
        "fig.add_subplot(2,2,4)\n",
        "im_rot = ndimage.rotate(im_loop, 70)\n",
        "plt.imshow(im_rot)\n",
        "plt.title('Rot')\n",
        "\n",
        "plt.show()"
      ],
      "execution_count": 0,
      "outputs": []
    },
    {
      "cell_type": "markdown",
      "metadata": {
        "id": "0wM8NMQTiNIu",
        "colab_type": "text"
      },
      "source": [
        "So the only remaining pixels in the region 200 < Y < 400 and 30 < X < 400 are red or fully black!"
      ]
    },
    {
      "cell_type": "markdown",
      "metadata": {
        "id": "91-uiXRPD6Ka",
        "colab_type": "text"
      },
      "source": [
        "## Make your own image here"
      ]
    },
    {
      "cell_type": "code",
      "metadata": {
        "id": "GcGkwXdjsZNe",
        "colab_type": "code",
        "colab": {}
      },
      "source": [
        "# Create an array of zeroes, set some values and blur them out:\n",
        "\n",
        "im = np.zeros((20, 20))  # Dimensions of the full array \n",
        "im[6:-6, 6:-6] = 1  # Pick a square in the middle and draw in it\n",
        "\n",
        "im = ndimage.distance_transform_bf(im)  # Then create layered change\n",
        "\n",
        "# Show our great creation\n",
        "plt.imshow(im)\n",
        "plt.show()"
      ],
      "execution_count": 0,
      "outputs": []
    },
    {
      "cell_type": "markdown",
      "metadata": {
        "id": "mHsKzokGXjnL",
        "colab_type": "text"
      },
      "source": [
        "###And we can now play with the Image:\n",
        "\n",
        "\n",
        "*   Adding a colorbar and changing the colormap\n",
        "*   Creating noise \n",
        "*   Blurring and sharpening the image"
      ]
    },
    {
      "cell_type": "markdown",
      "metadata": {
        "id": "jqDtO5O1YF-d",
        "colab_type": "text"
      },
      "source": [
        "#### Adding a colorbar and changing the colormap\n",
        "\n",
        "Changing the colormap allows for easier (or harder!) ways to visualize our data. Rainbow colourmaps may look great, but they are not so good at conveying information! (Even with a colorbar on the side)."
      ]
    },
    {
      "cell_type": "code",
      "metadata": {
        "id": "nPpVKMv_YFTW",
        "colab_type": "code",
        "colab": {}
      },
      "source": [
        "fig = plt.figure(figsize = (12,10))\n",
        "\n",
        "fig.add_subplot(1,2,1)\n",
        "plt.imshow(im, cmap = plt.cm.hsv)\n",
        "plt.title('Rainbows are bad (sometimes)')\n",
        "plt.colorbar(fraction = 0.046)\n",
        "\n",
        "\n",
        "fig.add_subplot(1,2,2)\n",
        "plt.imshow(im, cmap = plt.cm.plasma)\n",
        "plt.title('Using a good colormap')\n",
        "plt.colorbar(fraction = 0.046)\n",
        "\n",
        "plt.show()\n"
      ],
      "execution_count": 0,
      "outputs": []
    },
    {
      "cell_type": "markdown",
      "metadata": {
        "id": "D7dR5ao0ZOAW",
        "colab_type": "text"
      },
      "source": [
        "For a full list of colormaps, do check https://matplotlib.org/3.1.0/tutorials/colors/colormaps.html, where they explain the optimal usage for colormaps!\n",
        "\n",
        "It is generally agreed upon that perceptually uniform, sequential colormaps are best! i.e plasma, as chosen in the right image."
      ]
    },
    {
      "cell_type": "markdown",
      "metadata": {
        "id": "tcR8qwnRH2PZ",
        "colab_type": "text"
      },
      "source": [
        "#### Creating noise\n",
        "\n",
        "Now that we know to choose a good colourmap, we can **make our image seem blurry by randomly modifying pixel values**"
      ]
    },
    {
      "cell_type": "code",
      "metadata": {
        "id": "P_CKIfaaHzhr",
        "colab_type": "code",
        "colab": {}
      },
      "source": [
        "# We first make a noisy image by +/- 30% of the pixel value\n",
        "im_noise = im + 0.3 * np.random.randn(*im.shape) \n",
        "\n",
        "# We can then smooth our noisy image to denoise it\n",
        "im_med = ndimage.median_filter(im_noise, 3)\n",
        "\n",
        "fig = plt.figure(figsize = (16,5))\n",
        "\n",
        "fig.add_subplot(1,3,1)\n",
        "plt.imshow(im_noise, cmap = plt.cm.plasma)\n",
        "plt.title('Noisy')\n",
        "\n",
        "\n",
        "\n",
        "fig.add_subplot(1,3,2)\n",
        "plt.imshow(im_med, cmap = plt.cm.plasma)\n",
        "plt.title('Denoised image')\n",
        "\n",
        "\n",
        "\n",
        "fig.add_subplot(1,3,3)\n",
        "plt.imshow(np.abs(im - im_med), cmap=plt.cm.hot , interpolation='nearest')\n",
        "plt.title('Difference between original and denoised image')\n",
        "plt.colorbar(fraction = 0.046)\n",
        "\n",
        "\n",
        "plt.show()"
      ],
      "execution_count": 0,
      "outputs": []
    },
    {
      "cell_type": "markdown",
      "metadata": {
        "id": "jEhQzQ2-c0-p",
        "colab_type": "text"
      },
      "source": [
        "Which can be used to deep-fry some previously nice pictures."
      ]
    },
    {
      "cell_type": "markdown",
      "metadata": {
        "id": "fxmdtwzrUVSp",
        "colab_type": "text"
      },
      "source": [
        "#### Blurring and sharpening an image\n",
        "\n",
        "These two techniques are exact opposites from each other, which is not straight-forward. Let's have a look at an implementation on a random image, say, a racoon."
      ]
    },
    {
      "cell_type": "code",
      "metadata": {
        "id": "S7a5U6WnETST",
        "colab_type": "code",
        "colab": {}
      },
      "source": [
        "from scipy import misc\n",
        "import cv2\n",
        "\n",
        "\n",
        "# Load in the picture from the miscellaneous module\n",
        "f = misc.face(gray=True).astype(float)  # Original picture : OG\n",
        "\n",
        "# Create a blurred picture: for each of the pixels, change value slightly\n",
        "blurred_f = ndimage.gaussian_filter(f, 3)  # Blurry\n",
        "\n",
        "\n",
        "# We can then sharpen the image using the filter: SHARP\n",
        "filter_blurred_f = ndimage.gaussian_filter(blurred_f, 1)\n",
        "alpha = 30\n",
        "sharpened = blurred_f + alpha * (blurred_f - filter_blurred_f)\n",
        "\n",
        "\n",
        "plt.figure(figsize=(12, 4))\n",
        "plt.subplot(131)\n",
        "plt.imshow(f, cmap=plt.cm.gray)\n",
        "plt.title('OG')\n",
        "plt.axis('off')\n",
        "plt.subplot(132)\n",
        "plt.imshow(blurred_f, cmap=plt.cm.gray)\n",
        "plt.axis('off')\n",
        "plt.title('Blurry')\n",
        "plt.subplot(133)\n",
        "plt.imshow(sharpened, cmap=plt.cm.gray)\n",
        "plt.axis('off')\n",
        "plt.title('SHARP')\n",
        "\n",
        "plt.tight_layout()\n",
        "plt.show()"
      ],
      "execution_count": 0,
      "outputs": []
    },
    {
      "cell_type": "markdown",
      "metadata": {
        "id": "VlO_Z-5i7rfw",
        "colab_type": "text"
      },
      "source": [
        "## Finding edges inside image\n",
        "\n",
        "The sobel filter is very good at finding edges for any given shape"
      ]
    },
    {
      "cell_type": "code",
      "metadata": {
        "id": "gCu5XEUJUASd",
        "colab_type": "code",
        "colab": {}
      },
      "source": [
        "im = np.zeros((100, 100))  # Dimensions of the full array \n",
        "im[20:-20, 20:-20] = 1  # Pick a square in the middle and draw in it\n",
        "cv2.circle(im, (60,60), 40, 1)  # Draw a circle\n",
        "\n",
        "\n",
        "im = ndimage.rotate(im, 60, mode='constant')\n",
        "sx = ndimage.sobel(im, axis=0, mode='constant')\n",
        "sy = ndimage.sobel(im, axis=1, mode='constant')\n",
        "sob = np.hypot(sx, sy)\n",
        "\n",
        "plt.figure(figsize=(8, 5))\n",
        "plt.subplot(121)\n",
        "plt.imshow(im, cmap=plt.cm.gray)\n",
        "plt.title('OG squircle', fontsize=20)\n",
        "plt.subplot(122)\n",
        "plt.imshow(sob)\n",
        "plt.title('Detected edges', fontsize=20)\n",
        "im += 2*np.random.random(im.shape)\n",
        "\n",
        "sx = ndimage.sobel(im, axis=0, mode='constant')\n",
        "sy = ndimage.sobel(im, axis=1, mode='constant')\n",
        "sob = np.hypot(sx, sy)\n",
        "\n",
        "plt.show()"
      ],
      "execution_count": 0,
      "outputs": []
    },
    {
      "cell_type": "markdown",
      "metadata": {
        "id": "p5YFJ88yKYEJ",
        "colab_type": "text"
      },
      "source": [
        "## Exercise 4\n",
        "\n",
        "Now you are ready to take on this challenge. You need to save the MSSL logo with the code below, and then get it as close as you can to the following image: https://imgur.com/a/GZru1yJ"
      ]
    },
    {
      "cell_type": "code",
      "metadata": {
        "id": "x_G4J2YfiALS",
        "colab_type": "code",
        "colab": {}
      },
      "source": [
        "url = 'https://www.ukspacefacilities.stfc.ac.uk/Gallery/MSSL_Logo_360x222.jpg'\n",
        "urllib.request.urlretrieve(url, \"mssl_logo.jpg\")\n",
        "\n"
      ],
      "execution_count": 0,
      "outputs": []
    },
    {
      "cell_type": "code",
      "metadata": {
        "id": "AUy8WTiuiZ4f",
        "colab_type": "code",
        "colab": {}
      },
      "source": [
        "import matplotlib.pyplot as plt\n",
        "import numpy as np\n",
        "\n",
        "# Hint: Take it step by step. Start from what the whole image does differently and then move into the data itself."
      ],
      "execution_count": 0,
      "outputs": []
    }
  ]
}