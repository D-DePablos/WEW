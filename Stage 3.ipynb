{
  "nbformat": 4,
  "nbformat_minor": 0,
  "metadata": {
    "colab": {
      "name": "Stage 3.ipynb",
      "version": "0.3.2",
      "provenance": []
    },
    "language_info": {
      "codemirror_mode": {
        "name": "ipython",
        "version": 3
      },
      "file_extension": ".py",
      "mimetype": "text/x-python",
      "name": "python",
      "nbconvert_exporter": "python",
      "pygments_lexer": "ipython3",
      "version": "3.7.3"
    },
    "kernelspec": {
      "display_name": "Python 3",
      "language": "python",
      "name": "python3"
    }
  },
  "cells": [
    {
      "cell_type": "markdown",
      "metadata": {
        "id": "VFbvcv7VnMEG",
        "colab_type": "text"
      },
      "source": [
        "# Simple Plotting with Matplotlib"
      ]
    },
    {
      "cell_type": "markdown",
      "metadata": {
        "id": "jruT0Q0TnMEI",
        "colab_type": "text"
      },
      "source": [
        "Here we will show some simple plotting using the matplotlib package"
      ]
    },
    {
      "cell_type": "code",
      "metadata": {
        "id": "wWPvwyORnMEJ",
        "colab_type": "code",
        "colab": {}
      },
      "source": [
        "import matplotlib.pyplot as plt \n",
        "#You can set up packages with abbrievations for ease of use"
      ],
      "execution_count": 0,
      "outputs": []
    },
    {
      "cell_type": "code",
      "metadata": {
        "id": "P7Bi1MwInMEM",
        "colab_type": "code",
        "colab": {}
      },
      "source": [
        "FordFocuses = [1,2,3,4,5]\n",
        "BugattiVeyrons = [15,27,34,51,78]\n",
        "\n",
        "plt.figure() #Sets up a figure for you to plot on\n",
        "\n",
        "plt.plot(FordFocuses,BugattiVeyrons) #plt.plot simple plots the two datasets as a line plot\n",
        "\n",
        "#Every figure needs axes labels!\n",
        "plt.xlabel(\"Ford Focuses\")\n",
        "plt.ylabel(\"Bugatti Veyrons\")\n",
        "\n",
        "#Of course you need a title as well\n",
        "plt.title(\"Cars of the Super Rich\")\n",
        "\n"
      ],
      "execution_count": 0,
      "outputs": []
    },
    {
      "cell_type": "markdown",
      "metadata": {
        "id": "SMhfC17ynMEO",
        "colab_type": "text"
      },
      "source": [
        "Another simple plot is a scatter plot. Let's get a bit fancy here and create some random numbers.\n",
        "A good way to generate random numbers is using numpy.\n"
      ]
    },
    {
      "cell_type": "code",
      "metadata": {
        "id": "uHcThPyfnMEP",
        "colab_type": "code",
        "colab": {}
      },
      "source": [
        "import numpy as np\n",
        "\n",
        "#np.random.rand generates an array of x numbers between 0 and 1\n",
        "#we times by 100 because why not\n",
        "randoms1 = np.random.rand(50)*100\n",
        "randoms2 = np.random.rand(50)*100\n",
        "\n",
        "plt.figure()\n",
        "plt.scatter(randoms1,randoms2)"
      ],
      "execution_count": 0,
      "outputs": []
    },
    {
      "cell_type": "markdown",
      "metadata": {
        "id": "zlpeHe4fnMES",
        "colab_type": "text"
      },
      "source": [
        "Let's try a composite plot now."
      ]
    },
    {
      "cell_type": "code",
      "metadata": {
        "id": "SictFkknnMES",
        "colab_type": "code",
        "colab": {}
      },
      "source": [
        "import numpy as np\n",
        "import matplotlib.pyplot as plt \n",
        "\n",
        "#Creating a couple random arrays\n",
        "randoms1 = np.random.rand(50)*100\n",
        "randoms2 = np.random.rand(50)*100\n",
        "\n",
        "\n",
        "x = range(100) #Generating an array 0-100\n",
        "expotentials = np.cos(x)*50+50 #generating a cosine wave, multiplying and shifting it up\n",
        "\n",
        "plt.figure()\n",
        "plt.scatter(randoms1,randoms2,color='b')\n",
        "plt.plot(x,expotentials,color='r')\n"
      ],
      "execution_count": 0,
      "outputs": []
    },
    {
      "cell_type": "markdown",
      "metadata": {
        "id": "U6I6jTcVnMEV",
        "colab_type": "text"
      },
      "source": [
        "## Fancy plotting"
      ]
    },
    {
      "cell_type": "code",
      "metadata": {
        "id": "gitZTp5onMEW",
        "colab_type": "code",
        "colab": {}
      },
      "source": [
        "# This import registers the 3D projection, but is otherwise unused.\n",
        "from mpl_toolkits.mplot3d import Axes3D  \n",
        "\n",
        "import matplotlib.pyplot as plt\n",
        "from matplotlib import cm\n",
        "from matplotlib.ticker import LinearLocator, FormatStrFormatter\n",
        "import numpy as np\n",
        "\n",
        "\n",
        "fig = plt.figure(figsize=(8, 8))\n",
        "\n",
        "#Sets up the figure as a 3D plot\n",
        "ax = fig.gca(projection='3d')\n",
        "\n",
        "# Make up some random data\n",
        "X = np.arange(-5, 5, 0.25)\n",
        "Y = np.arange(-5, 5, 0.25)\n",
        "X, Y = np.meshgrid(X, Y)\n",
        "\n",
        "#Create a Z value from the X and Y values\n",
        "R = np.sqrt(X**2 + Y**2)\n",
        "Z = np.sin(R)\n",
        "\n",
        "# Plot the surface.\n",
        "surf = ax.plot_surface(X, Y, Z, cmap=cm.coolwarm) #Plot the data and add a colormap\n",
        "\n",
        "# Add a color bar which maps values to colors.\n",
        "fig.colorbar(surf, shrink=0.5, aspect=5)\n"
      ],
      "execution_count": 0,
      "outputs": []
    },
    {
      "cell_type": "code",
      "metadata": {
        "id": "3zhx_l3UnMEY",
        "colab_type": "code",
        "colab": {}
      },
      "source": [
        "#This example creates the Koch Snowflake fractal.\n",
        "#You don't have to understand how the function actually works, but have a look if you're interested \n",
        "\n",
        "\n",
        "#The cell belows runs the following function\n",
        "\n",
        "import numpy as np\n",
        "import matplotlib.pyplot as plt\n",
        "\n",
        "\n",
        "def koch_snowflake(order, scale=10):\n",
        "    \"\"\"\n",
        "    Return two lists x, y of point coordinates of the Koch snowflake.\n",
        "\n",
        "    Arguments\n",
        "    ---------\n",
        "    order : int\n",
        "        The recursion depth.\n",
        "    scale : float\n",
        "        The extent of the snowflake (edge length of the base triangle).\n",
        "    \"\"\"\n",
        "    def _koch_snowflake_complex(order):\n",
        "        if order == 0:\n",
        "            # initial triangle\n",
        "            angles = np.array([0, 120, 240]) + 90\n",
        "            return scale / np.sqrt(3) * np.exp(np.deg2rad(angles) * 1j)\n",
        "        else:\n",
        "            ZR = 0.5 - 0.5j * np.sqrt(3) / 3\n",
        "\n",
        "            p1 = _koch_snowflake_complex(order - 1)  # start points\n",
        "            p2 = np.roll(p1, shift=-1)  # end points\n",
        "            dp = p2 - p1  # connection vectors\n",
        "\n",
        "            new_points = np.empty(len(p1) * 4, dtype=np.complex128)\n",
        "            new_points[::4] = p1\n",
        "            new_points[1::4] = p1 + dp / 3\n",
        "            new_points[2::4] = p1 + dp * ZR\n",
        "            new_points[3::4] = p1 + dp / 3 * 2\n",
        "            return new_points\n",
        "\n",
        "    points = _koch_snowflake_complex(order)\n",
        "    x, y = points.real, points.imag\n",
        "    return x, y"
      ],
      "execution_count": 0,
      "outputs": []
    },
    {
      "cell_type": "code",
      "metadata": {
        "id": "4oUeByALnMEb",
        "colab_type": "code",
        "colab": {}
      },
      "source": [
        "#Here we run the function code, trying playing with the \"order\" value\n",
        "\n",
        "x, y = koch_snowflake(order=5)\n",
        "\n",
        "plt.figure(figsize=(8, 8))\n",
        "plt.axis('equal')\n",
        "plt.fill(x, y)\n",
        "plt.show()"
      ],
      "execution_count": 0,
      "outputs": []
    },
    {
      "cell_type": "code",
      "metadata": {
        "id": "HTIqUkPZnMEe",
        "colab_type": "code",
        "colab": {}
      },
      "source": [
        ""
      ],
      "execution_count": 0,
      "outputs": []
    }
  ]
}