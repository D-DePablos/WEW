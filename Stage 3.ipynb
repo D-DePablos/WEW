{
 "cells": [
  {
   "cell_type": "markdown",
   "metadata": {},
   "source": [
    "# Simple Plotting with Matplotlib"
   ]
  },
  {
   "cell_type": "markdown",
   "metadata": {},
   "source": [
    "Here we will show some simple plotting using the matplotlib package"
   ]
  },
  {
   "cell_type": "code",
   "execution_count": null,
   "metadata": {},
   "outputs": [],
   "source": [
    "import matplotlib.pyplot as plt \n",
    "#You can set up packages with abbrievations for ease of use"
   ]
  },
  {
   "cell_type": "code",
   "execution_count": null,
   "metadata": {},
   "outputs": [],
   "source": [
    "FordFocuses = [1,2,3,4,5]\n",
    "BugattiVeyrons = [15,27,34,51,78]\n",
    "\n",
    "plt.figure() #Sets up a figure for you to plot on\n",
    "\n",
    "plt.plot(FordFocuses,BugattiVeyrons) #plt.plot simple plots the two datasets as a line plot\n",
    "\n",
    "#Every figure needs axes labels!\n",
    "plt.xlabel(\"Ford Focuses\")\n",
    "plt.ylabel(\"Bugatti Veyrons\")\n",
    "\n",
    "#Of course you need a title as well\n",
    "plt.title(\"Cars of the Super Rich\")\n",
    "\n"
   ]
  },
  {
   "cell_type": "markdown",
   "metadata": {},
   "source": [
    "Another simple plot is a scatter plot. Let's get a bit fancy here and create some random numbers.\n",
    "A good way to generate random numbers is using numpy.\n"
   ]
  },
  {
   "cell_type": "code",
   "execution_count": null,
   "metadata": {},
   "outputs": [],
   "source": [
    "import numpy as np\n",
    "\n",
    "#np.random.rand generates an array of x numbers between 0 and 1\n",
    "#we times by 100 because why not\n",
    "randoms1 = np.random.rand(50)*100\n",
    "randoms2 = np.random.rand(50)*100\n",
    "\n",
    "plt.figure()\n",
    "plt.scatter(randoms1,randoms2)"
   ]
  },
  {
   "cell_type": "markdown",
   "metadata": {},
   "source": [
    "Let's try a composite plot now."
   ]
  },
  {
   "cell_type": "code",
   "execution_count": null,
   "metadata": {},
   "outputs": [],
   "source": [
    "randoms1 = np.random.rand(50)*100\n",
    "randoms2 = np.random.rand(50)*100\n",
    "\n",
    "x = range(100)\n",
    "expotentials = np.cos(x)*50+50\n",
    "\n",
    "plt.figure()\n",
    "plt.scatter(randoms1,randoms2,color='b')\n",
    "plt.plot(x,expotentials,color='r')\n"
   ]
  },
  {
   "cell_type": "code",
   "execution_count": null,
   "metadata": {},
   "outputs": [],
   "source": []
  }
 ],
 "metadata": {
  "kernelspec": {
   "display_name": "Python 3",
   "language": "python",
   "name": "python3"
  },
  "language_info": {
   "codemirror_mode": {
    "name": "ipython",
    "version": 3
   },
   "file_extension": ".py",
   "mimetype": "text/x-python",
   "name": "python",
   "nbconvert_exporter": "python",
   "pygments_lexer": "ipython3",
   "version": "3.7.3"
  }
 },
 "nbformat": 4,
 "nbformat_minor": 2
}
