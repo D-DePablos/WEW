{
  "nbformat": 4,
  "nbformat_minor": 0,
  "metadata": {
    "colab": {
      "name": "Stage 1.ipynb",
      "version": "0.3.2",
      "provenance": []
    },
    "language_info": {
      "codemirror_mode": {
        "name": "ipython",
        "version": 3
      },
      "file_extension": ".py",
      "mimetype": "text/x-python",
      "name": "python",
      "nbconvert_exporter": "python",
      "pygments_lexer": "ipython3",
      "version": "3.7.3"
    },
    "kernelspec": {
      "display_name": "Python 3",
      "language": "python",
      "name": "python3"
    }
  },
  "cells": [
    {
      "cell_type": "markdown",
      "metadata": {
        "id": "uFAe5Plpvmz_",
        "colab_type": "text"
      },
      "source": [
        "# Stage 1 : Basics of Python Programming\n",
        "\n",
        "To click through these examples, use shift+enter. Any of these examples can be edited by pressing enter whilst a box is highlighted.\n",
        "Feel free to mess around with any of them! "
      ]
    },
    {
      "cell_type": "markdown",
      "metadata": {
        "id": "8BnRN45wvm0A",
        "colab_type": "text"
      },
      "source": [
        "## Arithmetic uses"
      ]
    },
    {
      "cell_type": "code",
      "metadata": {
        "id": "0vNpLd5Nvm0C",
        "colab_type": "code",
        "colab": {}
      },
      "source": [
        "2+2"
      ],
      "execution_count": 0,
      "outputs": []
    },
    {
      "cell_type": "code",
      "metadata": {
        "id": "8IzIJ8u6vm0G",
        "colab_type": "code",
        "colab": {}
      },
      "source": [
        "4/3"
      ],
      "execution_count": 0,
      "outputs": []
    },
    {
      "cell_type": "code",
      "metadata": {
        "id": "VqjfEVTkvm0I",
        "colab_type": "code",
        "colab": {}
      },
      "source": [
        "9*4 #NOTE: * is used for multiplication in python"
      ],
      "execution_count": 0,
      "outputs": []
    },
    {
      "cell_type": "code",
      "metadata": {
        "id": "IDtHpHKXvm0K",
        "colab_type": "code",
        "colab": {}
      },
      "source": [
        "2**3 #NOTE: similarly ** is used for powers in "
      ],
      "execution_count": 0,
      "outputs": []
    },
    {
      "cell_type": "markdown",
      "metadata": {
        "id": "yTQiWnSkvm0N",
        "colab_type": "text"
      },
      "source": [
        "Variables are labels used to store data in python. This could be a number, or text, or something else.\n",
        "Setting the value of a variable is known as \"Assignment\""
      ]
    },
    {
      "cell_type": "code",
      "metadata": {
        "id": "w_6bPZb7vm0O",
        "colab_type": "code",
        "colab": {}
      },
      "source": [
        "a = 2"
      ],
      "execution_count": 0,
      "outputs": []
    },
    {
      "cell_type": "code",
      "metadata": {
        "id": "QlFAUuY_vm0S",
        "colab_type": "code",
        "colab": {}
      },
      "source": [
        "a*2 + 6"
      ],
      "execution_count": 0,
      "outputs": []
    },
    {
      "cell_type": "markdown",
      "metadata": {
        "id": "cqDUdFTGvm0V",
        "colab_type": "text"
      },
      "source": [
        "Variables can also hold results of equations"
      ]
    },
    {
      "cell_type": "code",
      "metadata": {
        "id": "KL6pGI28vm0W",
        "colab_type": "code",
        "colab": {}
      },
      "source": [
        "b = a*3 + 4\n"
      ],
      "execution_count": 0,
      "outputs": []
    },
    {
      "cell_type": "code",
      "metadata": {
        "id": "BCAxdryxvm0Z",
        "colab_type": "code",
        "colab": {}
      },
      "source": [
        "b"
      ],
      "execution_count": 0,
      "outputs": []
    },
    {
      "cell_type": "markdown",
      "metadata": {
        "id": "gqvc5H20vm0e",
        "colab_type": "text"
      },
      "source": [
        "## Strings (fancy programming name for words)\n",
        "\n",
        "To use strings, \" or ' must be used around the text you wish to store"
      ]
    },
    {
      "cell_type": "code",
      "metadata": {
        "id": "hAva81Pavm0g",
        "colab_type": "code",
        "colab": {}
      },
      "source": [
        "fancyword = 'Hello World!'"
      ],
      "execution_count": 0,
      "outputs": []
    },
    {
      "cell_type": "code",
      "metadata": {
        "id": "B3fBLflUvm0m",
        "colab_type": "code",
        "colab": {}
      },
      "source": [
        "fancyword\n"
      ],
      "execution_count": 0,
      "outputs": []
    },
    {
      "cell_type": "markdown",
      "metadata": {
        "id": "0eLrBEFivm0p",
        "colab_type": "text"
      },
      "source": [
        "Strings can be joined together simply by using +"
      ]
    },
    {
      "cell_type": "code",
      "metadata": {
        "id": "iJNv66M2vm0q",
        "colab_type": "code",
        "colab": {}
      },
      "source": [
        "'Hello' + \" \" + 'World'"
      ],
      "execution_count": 0,
      "outputs": []
    },
    {
      "cell_type": "markdown",
      "metadata": {
        "id": "fSS6FFynvm0s",
        "colab_type": "text"
      },
      "source": [
        "## Conditionals (IF you want to, or ELSE you don't)\n",
        "\n",
        "Conditionals are used to make certain parts of run if a certain condition is met. Trying change the value of A and seeing what happens"
      ]
    },
    {
      "cell_type": "code",
      "metadata": {
        "id": "PcSQVXX5vm0t",
        "colab_type": "code",
        "colab": {}
      },
      "source": [
        "A = \"Apple\"\n",
        "if A == \"Apple\":\n",
        "    print(\"It's a Apple\")\n",
        "else:\n",
        "    print(\"It's an Orange\")"
      ],
      "execution_count": 0,
      "outputs": []
    },
    {
      "cell_type": "markdown",
      "metadata": {
        "id": "JbCePme9vm0v",
        "colab_type": "text"
      },
      "source": [
        "## Loop de Loops\n",
        "\n",
        "Loops are used to repeat a code while a condition has/hasn't been met. Below are an examples of a \"while\" and \"for\" Loop"
      ]
    },
    {
      "cell_type": "code",
      "metadata": {
        "scrolled": true,
        "id": "dGFwsakGvm0w",
        "colab_type": "code",
        "colab": {}
      },
      "source": [
        "i = 10\n",
        "while i > 0:\n",
        "    i = i - 1 \n",
        "    print(\"What is it?\")\n",
        "    \n",
        "print(\"It's a red and blue striped golfing umbrella\")"
      ],
      "execution_count": 0,
      "outputs": []
    },
    {
      "cell_type": "markdown",
      "metadata": {
        "id": "iN7Crqd9vm0y",
        "colab_type": "text"
      },
      "source": [
        "## Lists\n",
        "\n",
        "Unsurprisingly, a list is a list of things."
      ]
    },
    {
      "cell_type": "code",
      "metadata": {
        "id": "a9yN41Mvvm00",
        "colab_type": "code",
        "colab": {}
      },
      "source": [
        "a = [1,5,1,3,8]"
      ],
      "execution_count": 0,
      "outputs": []
    },
    {
      "cell_type": "markdown",
      "metadata": {
        "id": "1qs_n5SPvm03",
        "colab_type": "text"
      },
      "source": [
        "To access a different thing in the list, you index the list like a[0]. Note: python starts counting at 0"
      ]
    },
    {
      "cell_type": "code",
      "metadata": {
        "id": "x4jlHUURvm04",
        "colab_type": "code",
        "colab": {}
      },
      "source": [
        "a[0]\n"
      ],
      "execution_count": 0,
      "outputs": []
    },
    {
      "cell_type": "code",
      "metadata": {
        "id": "wn9i8XOdvm06",
        "colab_type": "code",
        "colab": {}
      },
      "source": [
        "a[3]"
      ],
      "execution_count": 0,
      "outputs": []
    },
    {
      "cell_type": "markdown",
      "metadata": {
        "id": "S6evDhmnvm08",
        "colab_type": "text"
      },
      "source": [
        "## Slicing\n",
        "\n",
        "Slicing is used to select a certain section of data, the best use is a list"
      ]
    },
    {
      "cell_type": "code",
      "metadata": {
        "id": "RZlMFIhuvm0-",
        "colab_type": "code",
        "colab": {}
      },
      "source": [
        "ListyList = [1977,1978,1981,1984,2005,2019]"
      ],
      "execution_count": 0,
      "outputs": []
    },
    {
      "cell_type": "code",
      "metadata": {
        "id": "vOysKTX6vm1C",
        "colab_type": "code",
        "colab": {}
      },
      "source": [
        "ListyList[:2]"
      ],
      "execution_count": 0,
      "outputs": []
    },
    {
      "cell_type": "code",
      "metadata": {
        "id": "w5qfXGE-vm1G",
        "colab_type": "code",
        "colab": {}
      },
      "source": [
        "ListyList[1:]"
      ],
      "execution_count": 0,
      "outputs": []
    },
    {
      "cell_type": "code",
      "metadata": {
        "id": "5YNQTl46vm1I",
        "colab_type": "code",
        "colab": {}
      },
      "source": [
        "ListyList[1:3]"
      ],
      "execution_count": 0,
      "outputs": []
    },
    {
      "cell_type": "code",
      "metadata": {
        "id": "SJYxGB7jvuRL",
        "colab_type": "code",
        "colab": {
          "base_uri": "https://localhost:8080/",
          "height": 34
        },
        "outputId": "06e1df0b-69c6-4fd1-a40d-49662a9228ca"
      },
      "source": [
        "# Slicing also works on strings, for example\n",
        "CuteString = \"Roses are red\"\n",
        "CuteStringSlice = CuteString[:5]\n",
        "print(CuteStringSlice)"
      ],
      "execution_count": 4,
      "outputs": [
        {
          "output_type": "stream",
          "text": [
            "Roses\n"
          ],
          "name": "stdout"
        }
      ]
    },
    {
      "cell_type": "markdown",
      "metadata": {
        "id": "w-sX_u7Ivm1K",
        "colab_type": "text"
      },
      "source": [
        "## Dictionaries\n",
        "\n",
        "Dictionaries are another type of data structure (like a list). They essentially allow you to link a \"key\" with a \"value\". For example, imagine you wanted to keep track of how many apples (value) some people (key) had."
      ]
    },
    {
      "cell_type": "code",
      "metadata": {
        "id": "8q6A8XIevm1K",
        "colab_type": "code",
        "colab": {}
      },
      "source": [
        "AppleDict = {\"Alice\":5,\"Bob\":12,\"Clive\":16}"
      ],
      "execution_count": 0,
      "outputs": []
    },
    {
      "cell_type": "markdown",
      "metadata": {
        "id": "cbSUFy9evm1N",
        "colab_type": "text"
      },
      "source": [
        "You can then find out how many apples a person has by using the name as the index. "
      ]
    },
    {
      "cell_type": "code",
      "metadata": {
        "id": "pqZMeft-vm1O",
        "colab_type": "code",
        "colab": {}
      },
      "source": [
        "AppleDict[\"Bob\"]"
      ],
      "execution_count": 0,
      "outputs": []
    }
  ]
}